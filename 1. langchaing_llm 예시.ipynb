{
 "cells": [
  {
   "cell_type": "code",
   "execution_count": 3,
   "metadata": {},
   "outputs": [
    {
     "data": {
      "text/plain": [
       "True"
      ]
     },
     "execution_count": 3,
     "metadata": {},
     "output_type": "execute_result"
    }
   ],
   "source": [
    "from dotenv import load_dotenv\n",
    "load_dotenv()"
   ]
  },
  {
   "cell_type": "code",
   "execution_count": 4,
   "metadata": {},
   "outputs": [],
   "source": [
    "from langchain_openai import ChatOpenAI\n",
    "\n",
    "llm = ChatOpenAI()"
   ]
  },
  {
   "cell_type": "code",
   "execution_count": 6,
   "metadata": {},
   "outputs": [
    {
     "data": {
      "text/plain": [
       "'1. 통계학적 지식: 데이터를 분석하고 해석하기 위한 통계학적 지식이 필요합니다.\\n\\n2. 프로그래밍 언어 스킬: 데이터를 다루고 분석하기 위해 Python, R, SQL 등의 프로그래밍 언어를 잘 다룰 수 있어야 합니다.\\n\\n3. 데이터 시각화: 데이터를 시각적으로 표현하여 분석 결과를 이해하기 쉽게 전달할 수 있어야 합니다.\\n\\n4. 머신러닝 및 딥러닝 지식: 머신러닝 및 딥러닝 알고리즘을 이해하고 적용할 수 있어야 합니다.\\n\\n5. 비즈니스 이해력: 데이터 분석 결과를 토대로 비즈니스 문제를 해결할 수 있는 능력이 필요합니다.\\n\\n6. 커뮤니케이션 스킬: 데이터 분석 결과를 비전문가에게 이해시키기 위한 커뮤니케이션 능력이 필요합니다.\\n\\n7. 문제 해결 능력: 다양한 데이터를 다루며 발생하는 문제에 대한 해결 능력이 필요합니다.\\n\\n8. 창의성과 호기심: 새로운 데이터와 기술에 대한 호기심과 창의성이 필요합니다.'"
      ]
     },
     "execution_count": 6,
     "metadata": {},
     "output_type": "execute_result"
    }
   ],
   "source": [
    "ai_message = llm.invoke('데이터 사이언티스트는 어떤 역량이 필요할까요?')\n",
    "ai_message.content"
   ]
  },
  {
   "cell_type": "code",
   "execution_count": 7,
   "metadata": {},
   "outputs": [
    {
     "name": "stdout",
     "output_type": "stream",
     "text": [
      "1. 통계학적 지식: 데이터를 분석하고 해석하기 위한 통계학적 지식이 필요합니다.\n",
      "\n",
      "2. 프로그래밍 언어 스킬: 데이터를 다루고 분석하기 위해 Python, R, SQL 등의 프로그래밍 언어를 잘 다룰 수 있어야 합니다.\n",
      "\n",
      "3. 데이터 시각화: 데이터를 시각적으로 표현하여 분석 결과를 이해하기 쉽게 전달할 수 있어야 합니다.\n",
      "\n",
      "4. 머신러닝 및 딥러닝 지식: 머신러닝 및 딥러닝 알고리즘을 이해하고 적용할 수 있어야 합니다.\n",
      "\n",
      "5. 비즈니스 이해력: 데이터 분석 결과를 토대로 비즈니스 문제를 해결할 수 있는 능력이 필요합니다.\n",
      "\n",
      "6. 커뮤니케이션 스킬: 데이터 분석 결과를 비전문가에게 이해시키기 위한 커뮤니케이션 능력이 필요합니다.\n",
      "\n",
      "7. 문제 해결 능력: 다양한 데이터를 다루며 발생하는 문제에 대한 해결 능력이 필요합니다.\n",
      "\n",
      "8. 창의성과 호기심: 새로운 데이터와 기술에 대한 호기심과 창의성이 필요합니다.\n"
     ]
    }
   ],
   "source": [
    "print(ai_message.content)"
   ]
  },
  {
   "cell_type": "code",
   "execution_count": null,
   "metadata": {},
   "outputs": [],
   "source": []
  }
 ],
 "metadata": {
  "kernelspec": {
   "display_name": "inflearn-llm-application",
   "language": "python",
   "name": "python3"
  },
  "language_info": {
   "codemirror_mode": {
    "name": "ipython",
    "version": 3
   },
   "file_extension": ".py",
   "mimetype": "text/x-python",
   "name": "python",
   "nbconvert_exporter": "python",
   "pygments_lexer": "ipython3",
   "version": "3.10.0"
  },
  "orig_nbformat": 4
 },
 "nbformat": 4,
 "nbformat_minor": 2
}
